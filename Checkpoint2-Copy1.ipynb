{
 "cells": [
  {
   "cell_type": "code",
   "execution_count": 12,
   "id": "d8e5cce7",
   "metadata": {},
   "outputs": [
    {
     "name": "stdout",
     "output_type": "stream",
     "text": [
      "{3073, 2562, 2051, 2569, 2058, 3087, 2576, 3094, 2583, 2072, 3101, 2079, 3108, 2597, 2086, 2604, 2093, 3122, 2611, 3129, 2618, 2107, 3136, 2114, 3143, 2632, 2121, 2639, 2128, 3157, 2646, 3164, 2653, 2142, 3171, 2149, 3178, 2667, 2156, 2674, 2163, 3192, 2681, 3199, 2688, 2177, 2184, 2702, 2191, 2709, 2198, 2716, 2723, 2212, 2219, 2737, 2226, 2744, 2233, 2751, 2758, 2247, 2254, 2772, 2261, 2779, 2268, 2786, 2793, 2282, 2289, 2807, 2296, 2814, 2303, 2821, 2828, 2317, 2324, 2842, 2331, 2849, 2338, 2856, 2863, 2352, 2359, 2877, 2366, 2884, 2373, 2891, 2898, 2387, 2394, 2912, 2401, 2919, 2408, 2926, 2933, 2422, 2429, 2947, 2436, 2954, 2443, 2961, 2968, 2457, 2464, 2982, 2471, 2989, 2478, 2996, 3003, 2492, 2499, 3017, 2506, 3024, 2513, 2002, 3031, 2009, 3038, 2527, 2016, 2534, 2023, 3052, 2541, 3059, 2548, 2037, 3066, 2044}\n"
     ]
    }
   ],
   "source": [
    "List={x for x in range ( 2000 , 3201 ) if x%7==0 and x%5!=0}\n",
    "print(List)"
   ]
  },
  {
   "cell_type": "code",
   "execution_count": 32,
   "id": "a0849483",
   "metadata": {},
   "outputs": [
    {
     "name": "stdout",
     "output_type": "stream",
     "text": [
      "120\n"
     ]
    }
   ],
   "source": [
    "def fact(n):\n",
    "    f = 1\n",
    "    for i in range ( 1, n+1):\n",
    "         f= f*i\n",
    "    return f\n",
    "\n",
    "n=5\n",
    "result=fact(n)\n",
    "print(result)"
   ]
  },
  {
   "cell_type": "code",
   "execution_count": 31,
   "id": "ac02487f",
   "metadata": {},
   "outputs": [
    {
     "name": "stdout",
     "output_type": "stream",
     "text": [
      "{1: 1, 2: 4, 3: 9, 4: 16, 5: 25, 6: 36, 7: 49, 8: 64}\n"
     ]
    }
   ],
   "source": [
    "X=8\n",
    "Dict={Y:Y*Y for Y in range (1, X+1)}\n",
    "print(Dict)"
   ]
  },
  {
   "cell_type": "code",
   "execution_count": 39,
   "id": "f73895f0",
   "metadata": {},
   "outputs": [
    {
     "name": "stdout",
     "output_type": "stream",
     "text": [
      "Kwtar\n",
      "awtar\n",
      "Kawtr\n"
     ]
    }
   ],
   "source": [
    "def remove_char(str, n):\n",
    "      first_part = str[:n] \n",
    "      last_part = str[n+1:]\n",
    "      return first_part + last_part\n",
    "print(remove_char('Kawtar', 1))\n",
    "print(remove_char('Kawtar', 0))\n",
    "print(remove_char(\"Kawtar\", 4))"
   ]
  },
  {
   "cell_type": "code",
   "execution_count": 74,
   "id": "d5feffbb",
   "metadata": {},
   "outputs": [
    {
     "name": "stdout",
     "output_type": "stream",
     "text": [
      "[[0 1]\n",
      " [2 3]\n",
      " [4 5]]\n",
      "[[0, 1], [2, 3], [4, 5]]\n"
     ]
    }
   ],
   "source": [
    "import numpy as np\n",
    "x=np.arange(6).reshape(3,2)\n",
    "print(x)\n",
    "print(x.tolist())"
   ]
  },
  {
   "cell_type": "code",
   "execution_count": 75,
   "id": "4f1cc015",
   "metadata": {},
   "outputs": [
    {
     "ename": "TypeError",
     "evalue": "'numpy.ndarray' object is not callable",
     "output_type": "error",
     "traceback": [
      "\u001b[1;31m---------------------------------------------------------------------------\u001b[0m",
      "\u001b[1;31mTypeError\u001b[0m                                 Traceback (most recent call last)",
      "\u001b[1;32m<ipython-input-75-2f15882d50a1>\u001b[0m in \u001b[0;36m<module>\u001b[1;34m\u001b[0m\n\u001b[0;32m      1\u001b[0m \u001b[1;32mimport\u001b[0m \u001b[0mnumpy\u001b[0m \u001b[1;32mas\u001b[0m \u001b[0mnp\u001b[0m\u001b[1;33m\u001b[0m\u001b[1;33m\u001b[0m\u001b[0m\n\u001b[1;32m----> 2\u001b[1;33m \u001b[0marray1\u001b[0m\u001b[1;33m=\u001b[0m\u001b[0mnp\u001b[0m\u001b[1;33m.\u001b[0m\u001b[0marray\u001b[0m\u001b[1;33m(\u001b[0m\u001b[1;33m[\u001b[0m\u001b[1;36m0\u001b[0m\u001b[1;33m,\u001b[0m\u001b[1;36m1\u001b[0m\u001b[1;33m,\u001b[0m\u001b[1;36m2\u001b[0m\u001b[1;33m]\u001b[0m\u001b[1;33m)\u001b[0m\u001b[1;33m\u001b[0m\u001b[1;33m\u001b[0m\u001b[0m\n\u001b[0m\u001b[0;32m      3\u001b[0m \u001b[0marray2\u001b[0m\u001b[1;33m=\u001b[0m\u001b[0mnp\u001b[0m\u001b[1;33m.\u001b[0m\u001b[0marray\u001b[0m\u001b[1;33m(\u001b[0m\u001b[1;33m[\u001b[0m\u001b[1;36m2\u001b[0m\u001b[1;33m,\u001b[0m\u001b[1;36m1\u001b[0m\u001b[1;33m,\u001b[0m\u001b[1;36m0\u001b[0m\u001b[1;33m]\u001b[0m\u001b[1;33m)\u001b[0m\u001b[1;33m\u001b[0m\u001b[1;33m\u001b[0m\u001b[0m\n\u001b[0;32m      4\u001b[0m \u001b[0mprint\u001b[0m\u001b[1;33m(\u001b[0m\u001b[0marray1\u001b[0m\u001b[1;33m)\u001b[0m\u001b[1;33m\u001b[0m\u001b[1;33m\u001b[0m\u001b[0m\n\u001b[0;32m      5\u001b[0m \u001b[0mprint\u001b[0m\u001b[1;33m(\u001b[0m\u001b[0marray2\u001b[0m\u001b[1;33m)\u001b[0m\u001b[1;33m\u001b[0m\u001b[1;33m\u001b[0m\u001b[0m\n",
      "\u001b[1;31mTypeError\u001b[0m: 'numpy.ndarray' object is not callable"
     ]
    }
   ],
   "source": [
    "import numpy as np \n",
    "array1=np.array([0,1,2])\n",
    "array2=np.array([2,1,0])\n",
    "print(array1)\n",
    "print(array2)\n",
    "print(np.cov(array1))\n",
    "print(np.cov(array2))"
   ]
  },
  {
   "cell_type": "code",
   "execution_count": 18,
   "id": "eaf76231",
   "metadata": {},
   "outputs": [
    {
     "name": "stdout",
     "output_type": "stream",
     "text": [
      "24\n"
     ]
    }
   ],
   "source": [
    "import math \n",
    "c=50\n",
    "h=30\n",
    "d=[180]\n",
    "for i in d : \n",
    "    square_root=math.sqrt((2*c*i)/h)\n",
    "print(int(square_root))\n"
   ]
  }
 ],
 "metadata": {
  "kernelspec": {
   "display_name": "Python 3",
   "language": "python",
   "name": "python3"
  },
  "language_info": {
   "codemirror_mode": {
    "name": "ipython",
    "version": 3
   },
   "file_extension": ".py",
   "mimetype": "text/x-python",
   "name": "python",
   "nbconvert_exporter": "python",
   "pygments_lexer": "ipython3",
   "version": "3.8.8"
  }
 },
 "nbformat": 4,
 "nbformat_minor": 5
}
